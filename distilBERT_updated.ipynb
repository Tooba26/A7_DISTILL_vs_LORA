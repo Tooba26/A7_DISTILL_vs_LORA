{
 "cells": [
  {
   "attachments": {},
   "cell_type": "markdown",
   "metadata": {},
   "source": [
    "# [DistilBERT, a distilled version of BERT: smaller, faster, cheaper and lighter](https://arxiv.org/abs/1910.01108)\n",
    "\n",
    "In this lecture, we will explore the architecture of DistilBERT, its key components, and how it can be utilized for various natural language processing tasks. Additionally, we'll discuss its advantages, limitations, and provide hands-on examples to showcase its effectiveness.\n",
    "\n",
    "Reference : [The Theory](https://towardsdatascience.com/distillation-of-bert-like-models-the-code-73c31e8c2b0a) | [Code](https://towardsdatascience.com/distillation-of-bert-like-models-the-theory-32e19a02641f)"
   ]
  },
  {
   "cell_type": "code",
   "execution_count": 2,
   "metadata": {},
   "outputs": [],
   "source": [
    "import os\n",
    "# Set GPU device\n",
    "os.environ[\"CUDA_VISIBLE_DEVICES\"] = \"1\"\n",
    "\n",
    "os.environ['http_proxy']  = 'http://192.41.170.23:3128'\n",
    "os.environ['https_proxy'] = 'http://192.41.170.23:3128'"
   ]
  },
  {
   "cell_type": "code",
   "execution_count": 3,
   "metadata": {},
   "outputs": [
    {
     "name": "stderr",
     "output_type": "stream",
     "text": [
      "/home/jupyter-st125404/.local/lib/python3.12/site-packages/transformers/utils/generic.py:441: FutureWarning: `torch.utils._pytree._register_pytree_node` is deprecated. Please use `torch.utils._pytree.register_pytree_node` instead.\n",
      "  _torch_pytree._register_pytree_node(\n"
     ]
    },
    {
     "data": {
      "text/plain": [
       "('3.4.1', '4.35.2', '2.6.0+cu124')"
      ]
     },
     "execution_count": 3,
     "metadata": {},
     "output_type": "execute_result"
    }
   ],
   "source": [
    "# !pip install datasets --upgrade\n",
    "import datasets\n",
    "import transformers\n",
    "import torch\n",
    "datasets.__version__, transformers.__version__, torch.__version__"
   ]
  },
  {
   "cell_type": "code",
   "execution_count": 4,
   "metadata": {},
   "outputs": [
    {
     "name": "stdout",
     "output_type": "stream",
     "text": [
      "cuda\n"
     ]
    }
   ],
   "source": [
    "import torch.nn as nn\n",
    "import torch\n",
    "from tqdm.auto import tqdm\n",
    "import random, math, time\n",
    "\n",
    "device = torch.device('cuda' if torch.cuda.is_available() else 'cpu')\n",
    "print(device)\n",
    "\n",
    "#make our work comparable if restarted the kernel\n",
    "SEED = 1234\n",
    "torch.manual_seed(SEED)\n",
    "torch.backends.cudnn.deterministic = True"
   ]
  },
  {
   "attachments": {},
   "cell_type": "markdown",
   "metadata": {},
   "source": [
    "## 1. Loading our MNLI part of the GLUE dataset"
   ]
  },
  {
   "cell_type": "code",
   "execution_count": null,
   "metadata": {
    "scrolled": true
   },
   "outputs": [
    {
     "data": {
      "text/plain": [
       "DatasetDict({\n",
       "    train: Dataset({\n",
       "        features: ['text', 'labels', 'id'],\n",
       "        num_rows: 43410\n",
       "    })\n",
       "    validation: Dataset({\n",
       "        features: ['text', 'labels', 'id'],\n",
       "        num_rows: 5426\n",
       "    })\n",
       "    test: Dataset({\n",
       "        features: ['text', 'labels', 'id'],\n",
       "        num_rows: 5427\n",
       "    })\n",
       "})"
      ]
     },
     "execution_count": 5,
     "metadata": {},
     "output_type": "execute_result"
    }
   ],
   "source": [
    "\n",
    "\n",
    "raw_datasets = datasets.load_dataset('google-research-datasets/go_emotions')\n",
    "raw_datasets"
   ]
  },
  {
   "cell_type": "code",
   "execution_count": 6,
   "metadata": {},
   "outputs": [
    {
     "name": "stdout",
     "output_type": "stream",
     "text": [
      "{'admiration': 0, 'amusement': 1, 'anger': 2, 'annoyance': 3, 'approval': 4, 'caring': 5, 'confusion': 6, 'curiosity': 7, 'desire': 8, 'disappointment': 9, 'disapproval': 10, 'disgust': 11, 'embarrassment': 12, 'excitement': 13, 'fear': 14, 'gratitude': 15, 'grief': 16, 'joy': 17, 'love': 18, 'nervousness': 19, 'optimism': 20, 'pride': 21, 'realization': 22, 'relief': 23, 'remorse': 24, 'sadness': 25, 'surprise': 26, 'neutral': 27}\n"
     ]
    }
   ],
   "source": [
    "label_list = [\n",
    "    \"admiration\", \"amusement\", \"anger\", \"annoyance\", \"approval\", \"caring\",\n",
    "    \"confusion\", \"curiosity\", \"desire\", \"disappointment\", \"disapproval\", \"disgust\",\n",
    "    \"embarrassment\", \"excitement\", \"fear\", \"gratitude\", \"grief\", \"joy\", \"love\",\n",
    "    \"nervousness\", \"optimism\", \"pride\", \"realization\", \"relief\", \"remorse\", \"sadness\",\n",
    "    \"surprise\", \"neutral\"\n",
    "]\n",
    "\n",
    "# Map to label2id\n",
    "label2id = {label: i for i, label in enumerate(label_list)}\n",
    "print(label2id)"
   ]
  },
  {
   "cell_type": "code",
   "execution_count": 7,
   "metadata": {},
   "outputs": [
    {
     "name": "stdout",
     "output_type": "stream",
     "text": [
      "{'text': Value(dtype='string', id=None), 'labels': Sequence(feature=ClassLabel(names=['admiration', 'amusement', 'anger', 'annoyance', 'approval', 'caring', 'confusion', 'curiosity', 'desire', 'disappointment', 'disapproval', 'disgust', 'embarrassment', 'excitement', 'fear', 'gratitude', 'grief', 'joy', 'love', 'nervousness', 'optimism', 'pride', 'realization', 'relief', 'remorse', 'sadness', 'surprise', 'neutral'], id=None), length=-1, id=None), 'id': Value(dtype='string', id=None)}\n"
     ]
    }
   ],
   "source": [
    "print(raw_datasets['train'].features)"
   ]
  },
  {
   "cell_type": "code",
   "execution_count": 8,
   "metadata": {},
   "outputs": [
    {
     "data": {
      "text/plain": [
       "{0: 'admiration',\n",
       " 1: 'amusement',\n",
       " 2: 'anger',\n",
       " 3: 'annoyance',\n",
       " 4: 'approval',\n",
       " 5: 'caring',\n",
       " 6: 'confusion',\n",
       " 7: 'curiosity',\n",
       " 8: 'desire',\n",
       " 9: 'disappointment',\n",
       " 10: 'disapproval',\n",
       " 11: 'disgust',\n",
       " 12: 'embarrassment',\n",
       " 13: 'excitement',\n",
       " 14: 'fear',\n",
       " 15: 'gratitude',\n",
       " 16: 'grief',\n",
       " 17: 'joy',\n",
       " 18: 'love',\n",
       " 19: 'nervousness',\n",
       " 20: 'optimism',\n",
       " 21: 'pride',\n",
       " 22: 'realization',\n",
       " 23: 'relief',\n",
       " 24: 'remorse',\n",
       " 25: 'sadness',\n",
       " 26: 'surprise',\n",
       " 27: 'neutral'}"
      ]
     },
     "execution_count": 8,
     "metadata": {},
     "output_type": "execute_result"
    }
   ],
   "source": [
    "id2label = {i: v for v, i in label2id.items()}\n",
    "id2label"
   ]
  },
  {
   "attachments": {},
   "cell_type": "markdown",
   "metadata": {},
   "source": [
    "## 2. Model & Tokenization"
   ]
  },
  {
   "cell_type": "code",
   "execution_count": 9,
   "metadata": {},
   "outputs": [
    {
     "name": "stdout",
     "output_type": "stream",
     "text": [
      "28\n"
     ]
    }
   ],
   "source": [
    "import numpy as np \n",
    "# Convert the nested list to a flat NumPy array\n",
    "all_labels = np.concatenate(raw_datasets['train']['labels'])\n",
    "\n",
    "# Get the number of unique labels\n",
    "num_labels = np.unique(all_labels).size\n",
    "print(num_labels)"
   ]
  },
  {
   "attachments": {},
   "cell_type": "markdown",
   "metadata": {},
   "source": [
    "<img src = \"figures/BERT_embed.png\" width=500>"
   ]
  },
  {
   "cell_type": "code",
   "execution_count": 10,
   "metadata": {},
   "outputs": [
    {
     "name": "stderr",
     "output_type": "stream",
     "text": [
      "/home/jupyter-st125404/.local/lib/python3.12/site-packages/huggingface_hub/file_download.py:797: FutureWarning: `resume_download` is deprecated and will be removed in version 1.0.0. Downloads always resume when possible. If you want to force a new download, use `force_download=True`.\n",
      "  warnings.warn(\n",
      "/home/jupyter-st125404/.local/lib/python3.12/site-packages/transformers/utils/generic.py:309: FutureWarning: `torch.utils._pytree._register_pytree_node` is deprecated. Please use `torch.utils._pytree.register_pytree_node` instead.\n",
      "  _torch_pytree._register_pytree_node(\n",
      "/home/jupyter-st125404/.local/lib/python3.12/site-packages/transformers/utils/generic.py:309: FutureWarning: `torch.utils._pytree._register_pytree_node` is deprecated. Please use `torch.utils._pytree.register_pytree_node` instead.\n",
      "  _torch_pytree._register_pytree_node(\n",
      "Some weights of BertForSequenceClassification were not initialized from the model checkpoint at bert-base-uncased and are newly initialized: ['classifier.bias', 'classifier.weight']\n",
      "You should probably TRAIN this model on a down-stream task to be able to use it for predictions and inference.\n"
     ]
    },
    {
     "data": {
      "text/plain": [
       "BertForSequenceClassification(\n",
       "  (bert): BertModel(\n",
       "    (embeddings): BertEmbeddings(\n",
       "      (word_embeddings): Embedding(30522, 768, padding_idx=0)\n",
       "      (position_embeddings): Embedding(512, 768)\n",
       "      (token_type_embeddings): Embedding(2, 768)\n",
       "      (LayerNorm): LayerNorm((768,), eps=1e-12, elementwise_affine=True)\n",
       "      (dropout): Dropout(p=0.1, inplace=False)\n",
       "    )\n",
       "    (encoder): BertEncoder(\n",
       "      (layer): ModuleList(\n",
       "        (0-11): 12 x BertLayer(\n",
       "          (attention): BertAttention(\n",
       "            (self): BertSelfAttention(\n",
       "              (query): Linear(in_features=768, out_features=768, bias=True)\n",
       "              (key): Linear(in_features=768, out_features=768, bias=True)\n",
       "              (value): Linear(in_features=768, out_features=768, bias=True)\n",
       "              (dropout): Dropout(p=0.1, inplace=False)\n",
       "            )\n",
       "            (output): BertSelfOutput(\n",
       "              (dense): Linear(in_features=768, out_features=768, bias=True)\n",
       "              (LayerNorm): LayerNorm((768,), eps=1e-12, elementwise_affine=True)\n",
       "              (dropout): Dropout(p=0.1, inplace=False)\n",
       "            )\n",
       "          )\n",
       "          (intermediate): BertIntermediate(\n",
       "            (dense): Linear(in_features=768, out_features=3072, bias=True)\n",
       "            (intermediate_act_fn): GELUActivation()\n",
       "          )\n",
       "          (output): BertOutput(\n",
       "            (dense): Linear(in_features=3072, out_features=768, bias=True)\n",
       "            (LayerNorm): LayerNorm((768,), eps=1e-12, elementwise_affine=True)\n",
       "            (dropout): Dropout(p=0.1, inplace=False)\n",
       "          )\n",
       "        )\n",
       "      )\n",
       "    )\n",
       "    (pooler): BertPooler(\n",
       "      (dense): Linear(in_features=768, out_features=768, bias=True)\n",
       "      (activation): Tanh()\n",
       "    )\n",
       "  )\n",
       "  (dropout): Dropout(p=0.1, inplace=False)\n",
       "  (classifier): Linear(in_features=768, out_features=28, bias=True)\n",
       ")"
      ]
     },
     "execution_count": 10,
     "metadata": {},
     "output_type": "execute_result"
    }
   ],
   "source": [
    "from transformers import AutoModelForSequenceClassification\n",
    "from transformers import AutoTokenizer\n",
    "\n",
    "teacher_id = \"bert-base-uncased\"\n",
    "tokenizer = AutoTokenizer.from_pretrained(teacher_id)\n",
    "\n",
    "teacher_model = AutoModelForSequenceClassification.from_pretrained(\n",
    "    teacher_id, \n",
    "    num_labels = num_labels,\n",
    "    id2label = id2label,\n",
    "    label2id = label2id,\n",
    ")\n",
    "\n",
    "teacher_model"
   ]
  },
  {
   "attachments": {},
   "cell_type": "markdown",
   "metadata": {},
   "source": [
    "## 3. Preprocessing "
   ]
  },
  {
   "cell_type": "code",
   "execution_count": 11,
   "metadata": {},
   "outputs": [],
   "source": [
    "# Define the tokenize function\n",
    "# Tokenize and process labels\n",
    "def tokenize_function(examples):\n",
    "    result = tokenizer(examples['text'], max_length=128, truncation=True)\n",
    "    labels_binary = np.zeros((len(examples['text']), num_labels), dtype=int)\n",
    "    for i, label_list in enumerate(examples['labels']):\n",
    "        for label in label_list:\n",
    "            labels_binary[i, label] = 1\n",
    "    result['labels'] = labels_binary.tolist()\n",
    "    return result\n",
    "\n"
   ]
  },
  {
   "cell_type": "code",
   "execution_count": 12,
   "metadata": {},
   "outputs": [
    {
     "name": "stdout",
     "output_type": "stream",
     "text": [
      "DatasetDict({\n",
      "    train: Dataset({\n",
      "        features: ['text', 'labels', 'id', 'input_ids', 'token_type_ids', 'attention_mask'],\n",
      "        num_rows: 43410\n",
      "    })\n",
      "    validation: Dataset({\n",
      "        features: ['text', 'labels', 'id', 'input_ids', 'token_type_ids', 'attention_mask'],\n",
      "        num_rows: 5426\n",
      "    })\n",
      "    test: Dataset({\n",
      "        features: ['text', 'labels', 'id', 'input_ids', 'token_type_ids', 'attention_mask'],\n",
      "        num_rows: 5427\n",
      "    })\n",
      "})\n",
      "{'text': \"My favourite food is anything I didn't have to cook myself.\", 'labels': [0, 0, 0, 0, 0, 0, 0, 0, 0, 0, 0, 0, 0, 0, 0, 0, 0, 0, 0, 0, 0, 0, 0, 0, 0, 0, 0, 1], 'id': 'eebbqej', 'input_ids': [101, 2026, 8837, 2833, 2003, 2505, 1045, 2134, 1005, 1056, 2031, 2000, 5660, 2870, 1012, 102], 'token_type_ids': [0, 0, 0, 0, 0, 0, 0, 0, 0, 0, 0, 0, 0, 0, 0, 0], 'attention_mask': [1, 1, 1, 1, 1, 1, 1, 1, 1, 1, 1, 1, 1, 1, 1, 1]}\n"
     ]
    }
   ],
   "source": [
    "# Tokenize the dataset\n",
    "tokenized_datasets = raw_datasets.map(tokenize_function, batched=True)\n",
    "\n",
    "# Inspect the result\n",
    "print(tokenized_datasets)\n",
    "print(tokenized_datasets['train'][0])"
   ]
  },
  {
   "cell_type": "code",
   "execution_count": 13,
   "metadata": {},
   "outputs": [
    {
     "name": "stdout",
     "output_type": "stream",
     "text": [
      "['text']\n"
     ]
    }
   ],
   "source": [
    "# list(task_to_keys[task_name])\n",
    "# Define task_to_keys for GoEmotions (single-text task)\n",
    "task_to_keys = {\n",
    "    'go_emotions': ('text', None)  # Single input column, no second sentence\n",
    "}\n",
    "\n",
    "# Set the task name\n",
    "task_name = 'go_emotions'\n",
    "\n",
    "# Get the columns, filtering out None\n",
    "column_dataset = [item for item in task_to_keys[task_name] if item is not None]\n",
    "print(column_dataset)"
   ]
  },
  {
   "cell_type": "code",
   "execution_count": 14,
   "metadata": {},
   "outputs": [
    {
     "data": {
      "text/plain": [
       "DatasetDict({\n",
       "    train: Dataset({\n",
       "        features: ['labels', 'input_ids', 'token_type_ids', 'attention_mask'],\n",
       "        num_rows: 43410\n",
       "    })\n",
       "    validation: Dataset({\n",
       "        features: ['labels', 'input_ids', 'token_type_ids', 'attention_mask'],\n",
       "        num_rows: 5426\n",
       "    })\n",
       "    test: Dataset({\n",
       "        features: ['labels', 'input_ids', 'token_type_ids', 'attention_mask'],\n",
       "        num_rows: 5427\n",
       "    })\n",
       "})"
      ]
     },
     "execution_count": 14,
     "metadata": {},
     "output_type": "execute_result"
    }
   ],
   "source": [
    "#remove column : 'premise', 'hypothesis', 'idx'\n",
    "tokenized_datasets = tokenized_datasets.remove_columns(column_dataset + [\"id\"])\n",
    "#rename column : 'labels'\n",
    "# tokenized_datasets = tokenized_datasets.rename_column(\"label\", \"labels\")\n",
    "tokenized_datasets.set_format(\"torch\")\n",
    "tokenized_datasets"
   ]
  },
  {
   "cell_type": "code",
   "execution_count": 15,
   "metadata": {},
   "outputs": [
    {
     "data": {
      "text/plain": [
       "tensor([ 101, 2026, 8837, 2833, 2003, 2505, 1045, 2134, 1005, 1056, 2031, 2000,\n",
       "        5660, 2870, 1012,  102])"
      ]
     },
     "execution_count": 15,
     "metadata": {},
     "output_type": "execute_result"
    }
   ],
   "source": [
    "tokenized_datasets['train'][0]['input_ids']"
   ]
  },
  {
   "cell_type": "code",
   "execution_count": 16,
   "metadata": {},
   "outputs": [
    {
     "data": {
      "text/plain": [
       "\"[CLS] my favourite food is anything i didn't have to cook myself. [SEP]\""
      ]
     },
     "execution_count": 16,
     "metadata": {},
     "output_type": "execute_result"
    }
   ],
   "source": [
    "tokenizer.decode(tokenized_datasets['train'][0]['input_ids'])"
   ]
  },
  {
   "attachments": {},
   "cell_type": "markdown",
   "metadata": {},
   "source": [
    "## 4. Preparing the dataloader"
   ]
  },
  {
   "cell_type": "code",
   "execution_count": 17,
   "metadata": {},
   "outputs": [],
   "source": [
    "from transformers import DataCollatorWithPadding\n",
    "# Define the data collator\n",
    "data_collator = DataCollatorWithPadding(tokenizer=tokenizer, return_tensors='pt')#Data collator that will dynamically pad the inputs received."
   ]
  },
  {
   "cell_type": "code",
   "execution_count": 18,
   "metadata": {},
   "outputs": [],
   "source": [
    "# Assuming tokenized_datasets is already created (from your previous tokenization step)\n",
    "small_train_dataset = tokenized_datasets[\"train\"].shuffle(seed=1150).select(range(40000))\n",
    "small_eval_dataset = tokenized_datasets[\"validation\"].shuffle(seed=1150).select(range(1000))\n",
    "small_test_dataset = tokenized_datasets[\"test\"].shuffle(seed=1150).select(range(1000))"
   ]
  },
  {
   "cell_type": "code",
   "execution_count": 19,
   "metadata": {},
   "outputs": [],
   "source": [
    "from torch.utils.data import DataLoader\n",
    "train_dataloader = DataLoader(\n",
    "    small_train_dataset, shuffle=True, batch_size=32, collate_fn=data_collator)\n",
    "test_dataloader = DataLoader(\n",
    "    small_test_dataset, batch_size=32, collate_fn=data_collator)\n",
    "eval_dataloader = DataLoader(\n",
    "    small_eval_dataset, batch_size=32, collate_fn=data_collator)"
   ]
  },
  {
   "cell_type": "code",
   "execution_count": 20,
   "metadata": {},
   "outputs": [
    {
     "name": "stderr",
     "output_type": "stream",
     "text": [
      "You're using a BertTokenizerFast tokenizer. Please note that with a fast tokenizer, using the `__call__` method is faster than using a method to encode the text followed by a call to the `pad` method to get a padded encoding.\n"
     ]
    },
    {
     "name": "stdout",
     "output_type": "stream",
     "text": [
      "torch.Size([8, 28]) torch.Size([8, 26]) torch.Size([8, 26])\n"
     ]
    }
   ],
   "source": [
    "from torch.utils.data import DataLoader\n",
    "from transformers import DataCollatorWithPadding\n",
    "\n",
    "# Define the data collator\n",
    "data_collator = DataCollatorWithPadding(tokenizer=tokenizer, return_tensors='pt')\n",
    "\n",
    "# Create the DataLoader\n",
    "train_dataloader = DataLoader(small_train_dataset, batch_size=8, shuffle=True, collate_fn=data_collator)\n",
    "\n",
    "# Test the batch\n",
    "for batch in train_dataloader:\n",
    "    print(batch['labels'].shape, batch['input_ids'].shape, batch['attention_mask'].shape)\n",
    "    break"
   ]
  },
  {
   "attachments": {},
   "cell_type": "markdown",
   "metadata": {},
   "source": [
    "## 5. Design the model and losses"
   ]
  },
  {
   "attachments": {},
   "cell_type": "markdown",
   "metadata": {},
   "source": [
    "### 5.1 Teacher Model & Student Model\n",
    "\n",
    "####  Architecture \n",
    "In the present work, the student - DistilBERT - has the same general architecture as BERT. \n",
    "- The `token-type embeddings` and the `pooler` are removed while `the number of layers` is reduced by a factor of 2. \n",
    "- Most of the operations used in the Transformer architecture `linear layer` and `layer normalisation` are highly optimized in modern linear algebra frameworks.\n",
    "- our investigations showed that variations on the last dimension of the tensor (hidden size dimension) have a smaller impact on computation efficiency (for a fixed parameters budget) than variations on other factors like the number of layers. \n",
    "- Thus we focus on reducing the number of layers.\n",
    "\n",
    "#### Initialize Student Model\n",
    "- To initialize a new model from an existing one, we need to access the weights of the old model (the teacher). \n",
    "- In order to get the weights, we first have to know how to access them. We’ll use BERT as our teacher model."
   ]
  },
  {
   "cell_type": "code",
   "execution_count": 21,
   "metadata": {},
   "outputs": [
    {
     "data": {
      "text/plain": [
       "BertConfig {\n",
       "  \"_name_or_path\": \"bert-base-uncased\",\n",
       "  \"architectures\": [\n",
       "    \"BertForMaskedLM\"\n",
       "  ],\n",
       "  \"attention_probs_dropout_prob\": 0.1,\n",
       "  \"classifier_dropout\": null,\n",
       "  \"gradient_checkpointing\": false,\n",
       "  \"hidden_act\": \"gelu\",\n",
       "  \"hidden_dropout_prob\": 0.1,\n",
       "  \"hidden_size\": 768,\n",
       "  \"id2label\": {\n",
       "    \"0\": \"admiration\",\n",
       "    \"1\": \"amusement\",\n",
       "    \"2\": \"anger\",\n",
       "    \"3\": \"annoyance\",\n",
       "    \"4\": \"approval\",\n",
       "    \"5\": \"caring\",\n",
       "    \"6\": \"confusion\",\n",
       "    \"7\": \"curiosity\",\n",
       "    \"8\": \"desire\",\n",
       "    \"9\": \"disappointment\",\n",
       "    \"10\": \"disapproval\",\n",
       "    \"11\": \"disgust\",\n",
       "    \"12\": \"embarrassment\",\n",
       "    \"13\": \"excitement\",\n",
       "    \"14\": \"fear\",\n",
       "    \"15\": \"gratitude\",\n",
       "    \"16\": \"grief\",\n",
       "    \"17\": \"joy\",\n",
       "    \"18\": \"love\",\n",
       "    \"19\": \"nervousness\",\n",
       "    \"20\": \"optimism\",\n",
       "    \"21\": \"pride\",\n",
       "    \"22\": \"realization\",\n",
       "    \"23\": \"relief\",\n",
       "    \"24\": \"remorse\",\n",
       "    \"25\": \"sadness\",\n",
       "    \"26\": \"surprise\",\n",
       "    \"27\": \"neutral\"\n",
       "  },\n",
       "  \"initializer_range\": 0.02,\n",
       "  \"intermediate_size\": 3072,\n",
       "  \"label2id\": {\n",
       "    \"admiration\": 0,\n",
       "    \"amusement\": 1,\n",
       "    \"anger\": 2,\n",
       "    \"annoyance\": 3,\n",
       "    \"approval\": 4,\n",
       "    \"caring\": 5,\n",
       "    \"confusion\": 6,\n",
       "    \"curiosity\": 7,\n",
       "    \"desire\": 8,\n",
       "    \"disappointment\": 9,\n",
       "    \"disapproval\": 10,\n",
       "    \"disgust\": 11,\n",
       "    \"embarrassment\": 12,\n",
       "    \"excitement\": 13,\n",
       "    \"fear\": 14,\n",
       "    \"gratitude\": 15,\n",
       "    \"grief\": 16,\n",
       "    \"joy\": 17,\n",
       "    \"love\": 18,\n",
       "    \"nervousness\": 19,\n",
       "    \"neutral\": 27,\n",
       "    \"optimism\": 20,\n",
       "    \"pride\": 21,\n",
       "    \"realization\": 22,\n",
       "    \"relief\": 23,\n",
       "    \"remorse\": 24,\n",
       "    \"sadness\": 25,\n",
       "    \"surprise\": 26\n",
       "  },\n",
       "  \"layer_norm_eps\": 1e-12,\n",
       "  \"max_position_embeddings\": 512,\n",
       "  \"model_type\": \"bert\",\n",
       "  \"num_attention_heads\": 12,\n",
       "  \"num_hidden_layers\": 12,\n",
       "  \"pad_token_id\": 0,\n",
       "  \"position_embedding_type\": \"absolute\",\n",
       "  \"transformers_version\": \"4.35.2\",\n",
       "  \"type_vocab_size\": 2,\n",
       "  \"use_cache\": true,\n",
       "  \"vocab_size\": 30522\n",
       "}"
      ]
     },
     "execution_count": 21,
     "metadata": {},
     "output_type": "execute_result"
    }
   ],
   "source": [
    "teacher_model.config"
   ]
  },
  {
   "attachments": {},
   "cell_type": "markdown",
   "metadata": {},
   "source": [
    "#### \n",
    "- The student model has the same configuration, except the number of layers is reduced by a factor of 2\n",
    "- The student layers are initilized by copying one out of two layers of the teacher, starting with layer 0.\n",
    "- The head of the teacher is also copied."
   ]
  },
  {
   "cell_type": "code",
   "execution_count": 22,
   "metadata": {},
   "outputs": [],
   "source": [
    "from transformers.models.bert.modeling_bert import BertPreTrainedModel, BertConfig\n",
    "# Get teacher configuration as a dictionnary\n",
    "configuration = teacher_model.config.to_dict()\n",
    "# configuration"
   ]
  },
  {
   "cell_type": "code",
   "execution_count": 23,
   "metadata": {},
   "outputs": [],
   "source": [
    "# Half the number of hidden layer\n",
    "configuration['num_hidden_layers'] //= 2\n",
    "# Convert the dictionnary to the student configuration\n",
    "configuration = BertConfig.from_dict(configuration)"
   ]
  },
  {
   "cell_type": "code",
   "execution_count": 24,
   "metadata": {
    "scrolled": true
   },
   "outputs": [
    {
     "data": {
      "text/plain": [
       "BertForSequenceClassification(\n",
       "  (bert): BertModel(\n",
       "    (embeddings): BertEmbeddings(\n",
       "      (word_embeddings): Embedding(30522, 768, padding_idx=0)\n",
       "      (position_embeddings): Embedding(512, 768)\n",
       "      (token_type_embeddings): Embedding(2, 768)\n",
       "      (LayerNorm): LayerNorm((768,), eps=1e-12, elementwise_affine=True)\n",
       "      (dropout): Dropout(p=0.1, inplace=False)\n",
       "    )\n",
       "    (encoder): BertEncoder(\n",
       "      (layer): ModuleList(\n",
       "        (0-5): 6 x BertLayer(\n",
       "          (attention): BertAttention(\n",
       "            (self): BertSelfAttention(\n",
       "              (query): Linear(in_features=768, out_features=768, bias=True)\n",
       "              (key): Linear(in_features=768, out_features=768, bias=True)\n",
       "              (value): Linear(in_features=768, out_features=768, bias=True)\n",
       "              (dropout): Dropout(p=0.1, inplace=False)\n",
       "            )\n",
       "            (output): BertSelfOutput(\n",
       "              (dense): Linear(in_features=768, out_features=768, bias=True)\n",
       "              (LayerNorm): LayerNorm((768,), eps=1e-12, elementwise_affine=True)\n",
       "              (dropout): Dropout(p=0.1, inplace=False)\n",
       "            )\n",
       "          )\n",
       "          (intermediate): BertIntermediate(\n",
       "            (dense): Linear(in_features=768, out_features=3072, bias=True)\n",
       "            (intermediate_act_fn): GELUActivation()\n",
       "          )\n",
       "          (output): BertOutput(\n",
       "            (dense): Linear(in_features=3072, out_features=768, bias=True)\n",
       "            (LayerNorm): LayerNorm((768,), eps=1e-12, elementwise_affine=True)\n",
       "            (dropout): Dropout(p=0.1, inplace=False)\n",
       "          )\n",
       "        )\n",
       "      )\n",
       "    )\n",
       "    (pooler): BertPooler(\n",
       "      (dense): Linear(in_features=768, out_features=768, bias=True)\n",
       "      (activation): Tanh()\n",
       "    )\n",
       "  )\n",
       "  (dropout): Dropout(p=0.1, inplace=False)\n",
       "  (classifier): Linear(in_features=768, out_features=28, bias=True)\n",
       ")"
      ]
     },
     "execution_count": 24,
     "metadata": {},
     "output_type": "execute_result"
    }
   ],
   "source": [
    "# Create uninitialized student model\n",
    "model = type(teacher_model)(configuration)\n",
    "model"
   ]
  },
  {
   "attachments": {},
   "cell_type": "markdown",
   "metadata": {},
   "source": [
    "- Recursively copies the weights of the (teacher) to the (student).\n",
    "- This function is meant to be first called on a BertFor... model, but is then called on every children of that model recursively.\n",
    "- The only part that's not fully copied is the encoder, of which only half is copied."
   ]
  },
  {
   "cell_type": "code",
   "execution_count": 25,
   "metadata": {},
   "outputs": [],
   "source": [
    "from transformers.models.bert.modeling_bert import BertEncoder, BertModel\n",
    "from torch.nn import Module\n",
    "def distill_bert_weights(\n",
    "    teacher: Module,\n",
    "    student: Module,\n",
    "    layer_strategy: str = 'even'  # 'odd' or 'even'\n",
    ") -> None:\n",
    "    \"\"\"\n",
    "    Recursively copies weights from the teacher to the student, selecting specific layers.\n",
    "    Args:\n",
    "        teacher: The teacher model (e.g., 12-layer BERT).\n",
    "        student: The student model (e.g., 6-layer BERT).\n",
    "        layer_strategy: 'odd' (layers 1, 3, 5, 7, 9, 11) or 'even' (layers 2, 4, 6, 8, 10, 12).\n",
    "    \"\"\"\n",
    "    # If the part is an entire BERT model, unpack and iterate\n",
    "    if isinstance(teacher, BertModel) or type(teacher).__name__.startswith('BertFor'):\n",
    "        for teacher_part, student_part in zip(teacher.children(), student.children()):\n",
    "            distill_bert_weights(teacher_part, student_part, layer_strategy)\n",
    "    # If the part is an encoder, copy the selected layers\n",
    "    elif isinstance(teacher, BertEncoder):\n",
    "        teacher_encoding_layers = [layer for layer in next(teacher.children())]  # 12 layers\n",
    "        student_encoding_layers = [layer for layer in next(student.children())]  # 6 layers\n",
    "        \n",
    "        # Define layer indices based on strategy (0-indexed)\n",
    "        if layer_strategy == 'odd':\n",
    "            teacher_layer_indices = [0, 2, 4, 6, 8, 10]  # Layers 1, 3, 5, 7, 9, 11\n",
    "        elif layer_strategy == 'even':\n",
    "            teacher_layer_indices = [1, 3, 5, 7, 9, 11]  # Layers 2, 4, 6, 8, 10, 12\n",
    "        else:\n",
    "            raise ValueError(\"layer_strategy must be 'odd' or 'even'\")\n",
    "        \n",
    "        # Copy weights from selected teacher layers to student layers\n",
    "        for student_idx, teacher_idx in enumerate(teacher_layer_indices):\n",
    "            student_encoding_layers[student_idx].load_state_dict(teacher_encoding_layers[teacher_idx].state_dict())\n",
    "    # Else the part is a head or something else, copy the state_dict\n",
    "    else:\n",
    "        student.load_state_dict(teacher.state_dict())\n",
    "\n",
    "    return model"
   ]
  },
  {
   "cell_type": "code",
   "execution_count": 26,
   "metadata": {},
   "outputs": [],
   "source": [
    "model = distill_bert_weights(teacher=teacher_model, student=model)"
   ]
  },
  {
   "cell_type": "code",
   "execution_count": 27,
   "metadata": {},
   "outputs": [
    {
     "name": "stdout",
     "output_type": "stream",
     "text": [
      "Teacher parameters : 109503772\n",
      "Student parameters : 66976540\n"
     ]
    }
   ],
   "source": [
    "def count_parameters(model):\n",
    "    return sum(p.numel() for p in model.parameters() if p.requires_grad)\n",
    "\n",
    "print('Teacher parameters :', count_parameters(teacher_model))\n",
    "print('Student parameters :', count_parameters(model))"
   ]
  },
  {
   "cell_type": "code",
   "execution_count": 28,
   "metadata": {},
   "outputs": [
    {
     "data": {
      "text/plain": [
       "61.16368301906532"
      ]
     },
     "execution_count": 28,
     "metadata": {},
     "output_type": "execute_result"
    }
   ],
   "source": [
    "count_parameters(model)/count_parameters(teacher_model) * 100"
   ]
  },
  {
   "cell_type": "code",
   "execution_count": 29,
   "metadata": {},
   "outputs": [],
   "source": [
    "#It has 40% less parameters than bert-base-uncased"
   ]
  },
  {
   "attachments": {},
   "cell_type": "markdown",
   "metadata": {},
   "source": [
    "### 5.2 Loss function"
   ]
  },
  {
   "attachments": {},
   "cell_type": "markdown",
   "metadata": {},
   "source": [
    "#### Softmax\n",
    "\n",
    "$$\n",
    "P_i(\\mathbf{z}_i, T) = \\frac{\\exp(\\mathbf{z}_i / T)}{\\sum_{q=0}^k \\exp(\\mathbf{z}_q / T)}\n",
    "$$\n"
   ]
  },
  {
   "attachments": {},
   "cell_type": "markdown",
   "metadata": {},
   "source": [
    "#### Knowledge Distillation\n",
    "\n",
    "#### CE Loss\n",
    "$$\\mathcal{L}_\\text{CE} = -\\sum^N_{j=0}\\sum_{i=0}^k {y}_i^{(j)}\\log(P_i({v}_i^{(j)}, 1))$$\n",
    "\n",
    "#### KL Loss\n",
    "$$\\mathcal{L}_\\text{KD} = -\\sum^N_{j=0}\\sum_{i=0}^k P_i({z}_i^{(j)}, T) \\log (P_i({v}_i^{(j)}, T))$$\n",
    "\n",
    "#### Cosine Embedding Loss\n",
    "$$\\mathcal{L}_{\\text{cosine}}(x_1, x_2, y) = \\frac{1}{N} \\sum_{i=1}^{N} \\left(1 - y_i \\cdot \\cos(\\theta_i)\\right)$$\n",
    "\n",
    "<!-- $$\\mathcal{L} = \\lambda \\mathcal{L}_\\text{KD} + (1-\\lambda)\\mathcal{L}_\\text{CE}$$\n",
    " -->\n",
    "\n",
    "#### Total Loss\n",
    "$$\\mathcal{L} = \\mathcal{L}_\\text{KD} + \\mathcal{L}_\\text{CE} + \\mathcal{L}_{\\text{cosine}}$$"
   ]
  },
  {
   "cell_type": "code",
   "execution_count": 30,
   "metadata": {},
   "outputs": [],
   "source": [
    "import torch.nn.functional as F\n",
    "\n",
    "class DistillKL(nn.Module):\n",
    "    \"\"\"\n",
    "    Distilling the Knowledge in a Neural Network\n",
    "    Compute the knowledge-distillation (KD) loss given outputs, labels.\n",
    "    \"Hyperparameters\": temperature and alpha\n",
    "\n",
    "    NOTE: the KL Divergence for PyTorch comparing the softmaxs of teacher\n",
    "    and student expects the input tensor to be log probabilities! \n",
    "    \"\"\"\n",
    "\n",
    "    def __init__(self):\n",
    "        super(DistillKL, self).__init__()\n",
    "\n",
    "    def forward(self, output_student, output_teacher, temperature=1):\n",
    "        '''\n",
    "        Note: the output_student and output_teacher are logits \n",
    "        '''\n",
    "        T = temperature #.cuda()\n",
    "        \n",
    "        KD_loss = nn.KLDivLoss(reduction='batchmean')(\n",
    "            F.log_softmax(output_student/T, dim=-1),\n",
    "            F.softmax(output_teacher/T, dim=-1)\n",
    "        ) * T * T\n",
    "        \n",
    "        return KD_loss"
   ]
  },
  {
   "cell_type": "code",
   "execution_count": 31,
   "metadata": {},
   "outputs": [],
   "source": [
    "criterion_div = DistillKL()\n",
    "criterion_cos = nn.CosineEmbeddingLoss()"
   ]
  },
  {
   "attachments": {},
   "cell_type": "markdown",
   "metadata": {},
   "source": [
    "## 6. Optimizer"
   ]
  },
  {
   "cell_type": "code",
   "execution_count": 32,
   "metadata": {},
   "outputs": [],
   "source": [
    "import torch.optim as optim\n",
    "import torch.nn as nn\n",
    "\n",
    "lr = 5e-5\n",
    "\n",
    "#training hyperparameters\n",
    "optimizer = optim.Adam(params=model.parameters(), lr=lr)"
   ]
  },
  {
   "cell_type": "code",
   "execution_count": 33,
   "metadata": {},
   "outputs": [],
   "source": [
    "model = model.to(device)\n",
    "teacher_model = teacher_model.to(device)"
   ]
  },
  {
   "attachments": {},
   "cell_type": "markdown",
   "metadata": {},
   "source": [
    "## 7. Learning rate scheduler"
   ]
  },
  {
   "cell_type": "code",
   "execution_count": 34,
   "metadata": {},
   "outputs": [],
   "source": [
    "from transformers import get_scheduler\n",
    "\n",
    "num_epochs = 5\n",
    "num_update_steps_per_epoch = len(train_dataloader)\n",
    "num_training_steps = num_epochs * num_update_steps_per_epoch\n",
    "\n",
    "lr_scheduler = get_scheduler(\n",
    "    name=\"linear\", \n",
    "    optimizer=optimizer, \n",
    "    num_warmup_steps=0, \n",
    "    num_training_steps=num_training_steps\n",
    ")"
   ]
  },
  {
   "attachments": {},
   "cell_type": "markdown",
   "metadata": {},
   "source": [
    "## 8. Metric"
   ]
  },
  {
   "cell_type": "code",
   "execution_count": 35,
   "metadata": {},
   "outputs": [],
   "source": [
    "# !pip3 install evaluate"
   ]
  },
  {
   "cell_type": "code",
   "execution_count": 36,
   "metadata": {},
   "outputs": [
    {
     "name": "stdout",
     "output_type": "stream",
     "text": [
      "Loaded metrics: ['f1', 'precision', 'recall']\n"
     ]
    }
   ],
   "source": [
    "import numpy as np\n",
    "import evaluate\n",
    "\n",
    "# Load metrics suitable for multi-label classification\n",
    "metric_f1 = evaluate.load(\"f1\", config_name=\"multilabel\")\n",
    "metric_precision = evaluate.load(\"precision\", config_name=\"multilabel\")\n",
    "metric_recall = evaluate.load(\"recall\", config_name=\"multilabel\")\n",
    "\n",
    "# Optionally, define task_name if not already set\n",
    "task_name = \"go_emotions\"  # From your previous code, if applicable\n",
    "\n",
    "# You can still use a conditional if task_name is dynamic, but it's not tied to GLUE\n",
    "if task_name == \"go_emotions\":\n",
    "    # Use multi-label metrics\n",
    "    metrics = {\n",
    "        \"f1\": metric_f1,\n",
    "        \"precision\": metric_precision,\n",
    "        \"recall\": metric_recall\n",
    "    }\n",
    "else:\n",
    "    # Fallback for single-label tasks (if needed elsewhere)\n",
    "    metrics = {\"accuracy\": evaluate.load(\"accuracy\")}\n",
    "\n",
    "print(\"Loaded metrics:\", list(metrics.keys()))"
   ]
  },
  {
   "attachments": {},
   "cell_type": "markdown",
   "metadata": {},
   "source": [
    "## 9. Train"
   ]
  },
  {
   "cell_type": "code",
   "execution_count": 63,
   "metadata": {},
   "outputs": [
    {
     "name": "stderr",
     "output_type": "stream",
     "text": [
      "/home/jupyter-st125404/.local/lib/python3.12/site-packages/huggingface_hub/file_download.py:797: FutureWarning: `resume_download` is deprecated and will be removed in version 1.0.0. Downloads always resume when possible. If you want to force a new download, use `force_download=True`.\n",
      "  warnings.warn(\n",
      "Some weights of BertForSequenceClassification were not initialized from the model checkpoint at bert-base-uncased and are newly initialized: ['classifier.bias', 'classifier.weight']\n",
      "You should probably TRAIN this model on a down-stream task to be able to use it for predictions and inference.\n"
     ]
    }
   ],
   "source": [
    "# Create and distill students\n",
    "\n",
    "from transformers import AutoModelForSequenceClassification, AutoTokenizer, BertConfig, AdamW, get_scheduler, DataCollatorWithPadding\n",
    "teacher_model = AutoModelForSequenceClassification.from_pretrained(\n",
    "    teacher_id, num_labels=num_labels, id2label=id2label, label2id=label2id, problem_type=\"multi_label_classification\"\n",
    ")\n",
    "student_config = BertConfig.from_dict(teacher_model.config.to_dict())\n",
    "student_config.num_hidden_layers //= 2  # Reduce from 12 to 6\n",
    "student_config.problem_type = \"multi_label_classification\"  # Explicitly set for multi-label\n"
   ]
  },
  {
   "cell_type": "code",
   "execution_count": 64,
   "metadata": {},
   "outputs": [
    {
     "data": {
      "text/plain": [
       "BertForSequenceClassification(\n",
       "  (bert): BertModel(\n",
       "    (embeddings): BertEmbeddings(\n",
       "      (word_embeddings): Embedding(30522, 768, padding_idx=0)\n",
       "      (position_embeddings): Embedding(512, 768)\n",
       "      (token_type_embeddings): Embedding(2, 768)\n",
       "      (LayerNorm): LayerNorm((768,), eps=1e-12, elementwise_affine=True)\n",
       "      (dropout): Dropout(p=0.1, inplace=False)\n",
       "    )\n",
       "    (encoder): BertEncoder(\n",
       "      (layer): ModuleList(\n",
       "        (0-5): 6 x BertLayer(\n",
       "          (attention): BertAttention(\n",
       "            (self): BertSelfAttention(\n",
       "              (query): Linear(in_features=768, out_features=768, bias=True)\n",
       "              (key): Linear(in_features=768, out_features=768, bias=True)\n",
       "              (value): Linear(in_features=768, out_features=768, bias=True)\n",
       "              (dropout): Dropout(p=0.1, inplace=False)\n",
       "            )\n",
       "            (output): BertSelfOutput(\n",
       "              (dense): Linear(in_features=768, out_features=768, bias=True)\n",
       "              (LayerNorm): LayerNorm((768,), eps=1e-12, elementwise_affine=True)\n",
       "              (dropout): Dropout(p=0.1, inplace=False)\n",
       "            )\n",
       "          )\n",
       "          (intermediate): BertIntermediate(\n",
       "            (dense): Linear(in_features=768, out_features=3072, bias=True)\n",
       "            (intermediate_act_fn): GELUActivation()\n",
       "          )\n",
       "          (output): BertOutput(\n",
       "            (dense): Linear(in_features=3072, out_features=768, bias=True)\n",
       "            (LayerNorm): LayerNorm((768,), eps=1e-12, elementwise_affine=True)\n",
       "            (dropout): Dropout(p=0.1, inplace=False)\n",
       "          )\n",
       "        )\n",
       "      )\n",
       "    )\n",
       "    (pooler): BertPooler(\n",
       "      (dense): Linear(in_features=768, out_features=768, bias=True)\n",
       "      (activation): Tanh()\n",
       "    )\n",
       "  )\n",
       "  (dropout): Dropout(p=0.1, inplace=False)\n",
       "  (classifier): Linear(in_features=768, out_features=28, bias=True)\n",
       ")"
      ]
     },
     "execution_count": 64,
     "metadata": {},
     "output_type": "execute_result"
    }
   ],
   "source": [
    "student_odd = AutoModelForSequenceClassification.from_config(student_config)\n",
    "distill_bert_weights(teacher=teacher_model, student=student_odd, layer_strategy='odd')  # Odd layers\n",
    "\n",
    "student_even = AutoModelForSequenceClassification.from_config(student_config)\n",
    "distill_bert_weights(teacher=teacher_model, student=student_even, layer_strategy='even')  # Even layers\n"
   ]
  },
  {
   "cell_type": "code",
   "execution_count": 65,
   "metadata": {},
   "outputs": [
    {
     "name": "stderr",
     "output_type": "stream",
     "text": [
      "/home/jupyter-st125404/.local/lib/python3.12/site-packages/transformers/optimization.py:411: FutureWarning: This implementation of AdamW is deprecated and will be removed in a future version. Use the PyTorch implementation torch.optim.AdamW instead, or set `no_deprecation_warning=True` to disable this warning\n",
      "  optimizer: Optimizer,\n"
     ]
    }
   ],
   "source": [
    "# Training setup\n",
    "device = torch.device(\"cuda\" if torch.cuda.is_available() else \"cpu\")\n",
    "teacher_model.to(device)\n",
    "student_odd.to(device)\n",
    "student_even.to(device)\n",
    "\n",
    "optimizer_odd = AdamW(student_odd.parameters(), lr=5e-5)\n",
    "optimizer_even = AdamW(student_even.parameters(), lr=5e-5)\n",
    "num_epochs = 3\n",
    "num_training_steps = num_epochs * len(train_dataloader)\n",
    "lr_scheduler_odd = get_scheduler(\"linear\", optimizer=optimizer_odd, num_warmup_steps=0, num_training_steps=num_training_steps)\n",
    "lr_scheduler_even = get_scheduler(\"linear\", optimizer=optimizer_even, num_warmup_steps=0, num_training_steps=num_training_steps)\n"
   ]
  },
  {
   "cell_type": "code",
   "execution_count": 66,
   "metadata": {},
   "outputs": [],
   "source": [
    "\n",
    "criterion_div = torch.nn.KLDivLoss(reduction=\"batchmean\")\n",
    "criterion_cos = torch.nn.CosineEmbeddingLoss()\n",
    "loss_fn = torch.nn.BCEWithLogitsLoss()"
   ]
  },
  {
   "cell_type": "code",
   "execution_count": 67,
   "metadata": {},
   "outputs": [],
   "source": [
    "metrics = {\n",
    "    \"f1\": evaluate.load(\"f1\", config_name=\"multilabel\"),\n",
    "    \"precision\": evaluate.load(\"precision\", config_name=\"multilabel\"),\n",
    "    \"recall\": evaluate.load(\"recall\", config_name=\"multilabel\")\n",
    "}\n"
   ]
  },
  {
   "cell_type": "code",
   "execution_count": 72,
   "metadata": {},
   "outputs": [
    {
     "name": "stdout",
     "output_type": "stream",
     "text": [
      "Training batches: 5000\n",
      "Evaluation batches: 32\n"
     ]
    }
   ],
   "source": [
    "print(f\"Training batches: {len(train_dataloader)}\")\n",
    "print(f\"Evaluation batches: {len(eval_dataloader)}\")\n"
   ]
  },
  {
   "cell_type": "code",
   "execution_count": null,
   "metadata": {},
   "outputs": [
    {
     "data": {
      "application/vnd.jupyter.widget-view+json": {
       "model_id": "8f8fb19d1f4f4a2dba248b65d6958a95",
       "version_major": 2,
       "version_minor": 0
      },
      "text/plain": [
       "  0%|          | 0/20000 [00:00<?, ?it/s]"
      ]
     },
     "metadata": {},
     "output_type": "display_data"
    },
    {
     "name": "stdout",
     "output_type": "stream",
     "text": [
      "Epoch 1 (Odd) - Avg train loss: 0.5129\n",
      "  - Loss_cls: 0.7404\n",
      "  - Loss_div: 0.0809\n",
      "  - Loss_cos: 0.7174\n",
      "Epoch 1 (Odd) - Eval loss: 0.7374, F1: 0.0861, Precision: 0.0459, Recall: 0.6826\n",
      "Epoch 2 (Odd) - Avg train loss: 0.5129\n",
      "  - Loss_cls: 0.7405\n",
      "  - Loss_div: 0.0809\n",
      "  - Loss_cos: 0.7173\n",
      "Epoch 2 (Odd) - Eval loss: 0.7374, F1: 0.0861, Precision: 0.0459, Recall: 0.6826\n",
      "Average Eval Metrics (Odd):\n",
      "  - F1: 0.0861\n",
      "  - Precision: 0.0459\n",
      "  - Recall: 0.6826\n",
      "Epoch 1 (Even) - Avg train loss: 0.4470\n",
      "  - Loss_cls: 0.7120\n",
      "  - Loss_div: 0.0498\n",
      "  - Loss_cos: 0.5791\n",
      "Epoch 1 (Even) - Eval loss: 0.7094, F1: 0.0869, Precision: 0.0467, Recall: 0.6349\n",
      "Epoch 2 (Even) - Avg train loss: 0.4475\n",
      "  - Loss_cls: 0.7121\n",
      "  - Loss_div: 0.0499\n",
      "  - Loss_cos: 0.5806\n",
      "Epoch 2 (Even) - Eval loss: 0.7094, F1: 0.0869, Precision: 0.0467, Recall: 0.6349\n",
      "Average Eval Metrics (Even):\n",
      "  - F1: 0.0869\n",
      "  - Precision: 0.0467\n",
      "  - Recall: 0.6349\n"
     ]
    }
   ],
   "source": [
    "import torch\n",
    "import numpy as np\n",
    "from tqdm.auto import tqdm\n",
    "\n",
    "student_odd = AutoModelForSequenceClassification.from_config(student_config)\n",
    "student_even = AutoModelForSequenceClassification.from_config(student_config)\n",
    "distill_bert_weights(teacher=teacher_model, student=student_odd, layer_strategy='odd')\n",
    "distill_bert_weights(teacher=teacher_model, student=student_even, layer_strategy='even')\n",
    "student_odd.to(device)\n",
    "student_even.to(device)\n",
    "\n",
    "num_epochs = 2\n",
    "num_training_steps = num_epochs * len(train_dataloader)  \n",
    "progress_bar = tqdm(range(num_training_steps * 2))  # For both odd and even\n",
    "\n",
    "# Training student_odd\n",
    "eval_metrics_odd = {\"f1\": 0, \"precision\": 0, \"recall\": 0}\n",
    "train_losses_odd = []\n",
    "train_losses_cls_odd = []\n",
    "train_losses_div_odd = []\n",
    "train_losses_cos_odd = []\n",
    "eval_losses_odd = []\n",
    "\n",
    "for epoch in range(num_epochs):\n",
    "    student_odd.train()  # student_odd is the model object here\n",
    "    teacher_model.eval()\n",
    "    train_loss_odd = train_loss_cls_odd = train_loss_div_odd = train_loss_cos_odd = 0\n",
    "    \n",
    "    for batch in train_dataloader:\n",
    "        assert \"labels\" in batch, \"Missing 'labels' in batch\"  # Check labels in batch\n",
    "        batch = {k: v.to(device) for k, v in batch.items()}\n",
    "        outputs = student_odd(input_ids=batch['input_ids'], attention_mask=batch['attention_mask'])\n",
    "        logits = outputs.logits\n",
    "        \n",
    "        with torch.no_grad():\n",
    "            output_teacher = teacher_model(input_ids=batch['input_ids'], attention_mask=batch['attention_mask'])\n",
    "            teacher_logits = output_teacher.logits\n",
    "\n",
    "        loss_cls = loss_fn(logits, batch[\"labels\"].float())\n",
    "        train_loss_cls_odd += loss_cls.item()\n",
    "        \n",
    "        student_log_probs = torch.nn.functional.log_softmax(logits, dim=-1)\n",
    "        teacher_probs = torch.nn.functional.softmax(teacher_logits, dim=-1)\n",
    "        loss_div = criterion_div(student_log_probs, teacher_probs)\n",
    "        train_loss_div_odd += loss_div.item()\n",
    "\n",
    "        loss_cos = criterion_cos(teacher_logits, logits, torch.ones(logits.size(0)).to(device))\n",
    "        train_loss_cos_odd += loss_cos.item()\n",
    "        loss = (loss_cls + loss_div + loss_cos) / 3\n",
    "        train_loss_odd += loss.item()\n",
    "\n",
    "        loss.backward()\n",
    "        optimizer_odd.step()\n",
    "        lr_scheduler_odd.step()\n",
    "        optimizer_odd.zero_grad()\n",
    "        progress_bar.update(1)\n",
    "\n",
    "    print(f\"Epoch {epoch+1} (Odd) - Avg train loss: {train_loss_odd / len(train_dataloader):.4f}\")\n",
    "    print(f\"  - Loss_cls: {train_loss_cls_odd / len(train_dataloader):.4f}\")\n",
    "    print(f\"  - Loss_div: {train_loss_div_odd / len(train_dataloader):.4f}\")\n",
    "    print(f\"  - Loss_cos: {train_loss_cos_odd / len(train_dataloader):.4f}\")\n",
    "\n",
    "    train_losses_odd.append(train_loss_odd / len(train_dataloader))\n",
    "    train_losses_cls_odd.append(train_loss_cls_odd / len(train_dataloader))\n",
    "    train_losses_div_odd.append(train_loss_div_odd / len(train_dataloader))\n",
    "    train_losses_cos_odd.append(train_loss_cos_odd / len(train_dataloader))\n",
    "\n",
    "    # Eval metrics for student_odd\n",
    "    student_odd.eval()\n",
    "    eval_loss_odd = 0\n",
    "    all_predictions_odd = []\n",
    "    all_labels_odd = []\n",
    "\n",
    "    with torch.no_grad():\n",
    "        for batch in eval_dataloader:\n",
    "            assert \"labels\" in batch, \"Missing 'labels' in eval batch\"  # Check eval batch\n",
    "            batch = {k: v.to(device) for k, v in batch.items()}\n",
    "            outputs = student_odd(input_ids=batch['input_ids'], attention_mask=batch['attention_mask'])\n",
    "            logits = outputs.logits\n",
    "            loss_cls = loss_fn(logits, batch[\"labels\"].float())\n",
    "            eval_loss_odd += loss_cls.item()\n",
    "\n",
    "            predictions = (torch.sigmoid(logits) > 0.5).int()\n",
    "            all_predictions_odd.append(predictions.cpu().numpy())\n",
    "            all_labels_odd.append(batch[\"labels\"].cpu().numpy())\n",
    "\n",
    "    all_predictions_odd = np.concatenate(all_predictions_odd, axis=0)\n",
    "    all_labels_odd = np.concatenate(all_labels_odd, axis=0)\n",
    "\n",
    "    eval_results_odd = {}\n",
    "    for metric_name, metric in metrics.items():\n",
    "        eval_results_odd[metric_name] = metric.compute(predictions=all_predictions_odd, references=all_labels_odd, average=\"micro\")[metric_name]\n",
    "        eval_metrics_odd[metric_name] += eval_results_odd[metric_name]\n",
    "\n",
    "    eval_losses_odd.append(eval_loss_odd / len(eval_dataloader))\n",
    "    print(f\"Epoch {epoch+1} (Odd) - Eval loss: {eval_losses_odd[-1]:.4f}, F1: {eval_results_odd['f1']:.4f}, Precision: {eval_results_odd['precision']:.4f}, Recall: {eval_results_odd['recall']:.4f}\")\n",
    "\n",
    "print(f\"Average Eval Metrics (Odd):\")\n",
    "for metric_name in eval_metrics_odd:\n",
    "    print(f\"  - {metric_name.capitalize()}: {eval_metrics_odd[metric_name] / num_epochs:.4f}\")\n",
    "\n",
    "# Training student_even\n",
    "eval_metrics_even = {\"f1\": 0, \"precision\": 0, \"recall\": 0}\n",
    "train_losses_even = []\n",
    "train_losses_cls_even = []\n",
    "train_losses_div_even = []\n",
    "train_losses_cos_even = []\n",
    "eval_losses_even = []\n",
    "\n",
    "for epoch in range(num_epochs):\n",
    "    student_even.train()  # student_even is the model object here\n",
    "    teacher_model.eval()\n",
    "    train_loss_even = train_loss_cls_even = train_loss_div_even = train_loss_cos_even = 0\n",
    "    \n",
    "    for batch in train_dataloader:\n",
    "        assert \"labels\" in batch, \"Missing 'labels' in batch\"  # Check labels in batch\n",
    "        batch = {k: v.to(device) for k, v in batch.items()}\n",
    "        outputs = student_even(input_ids=batch['input_ids'], attention_mask=batch['attention_mask'])\n",
    "        logits = outputs.logits\n",
    "        \n",
    "        with torch.no_grad():\n",
    "            output_teacher = teacher_model(input_ids=batch['input_ids'], attention_mask=batch['attention_mask'])\n",
    "            teacher_logits = output_teacher.logits\n",
    "\n",
    "        loss_cls = loss_fn(logits, batch[\"labels\"].float())\n",
    "        train_loss_cls_even += loss_cls.item()\n",
    "        \n",
    "        student_log_probs = torch.nn.functional.log_softmax(logits, dim=-1)\n",
    "        teacher_probs = torch.nn.functional.softmax(teacher_logits, dim=-1)\n",
    "        loss_div = criterion_div(student_log_probs, teacher_probs)\n",
    "        train_loss_div_even += loss_div.item()\n",
    "\n",
    "        loss_cos = criterion_cos(teacher_logits, logits, torch.ones(logits.size(0)).to(device))\n",
    "        train_loss_cos_even += loss_cos.item()\n",
    "        loss = (loss_cls + loss_div + loss_cos) / 3\n",
    "        train_loss_even += loss.item()\n",
    "\n",
    "        loss.backward()\n",
    "        optimizer_even.step()\n",
    "        lr_scheduler_even.step()\n",
    "        optimizer_even.zero_grad()\n",
    "        progress_bar.update(1)\n",
    "\n",
    "    print(f\"Epoch {epoch+1} (Even) - Avg train loss: {train_loss_even / len(train_dataloader):.4f}\")\n",
    "    print(f\"  - Loss_cls: {train_loss_cls_even / len(train_dataloader):.4f}\")\n",
    "    print(f\"  - Loss_div: {train_loss_div_even / len(train_dataloader):.4f}\")\n",
    "    print(f\"  - Loss_cos: {train_loss_cos_even / len(train_dataloader):.4f}\")\n",
    "\n",
    "    train_losses_even.append(train_loss_even / len(train_dataloader))\n",
    "    train_losses_cls_even.append(train_loss_cls_even / len(train_dataloader))\n",
    "    train_losses_div_even.append(train_loss_div_even / len(train_dataloader))\n",
    "    train_losses_cos_even.append(train_loss_cos_even / len(train_dataloader))\n",
    "\n",
    "    # Eval metrics for student_even\n",
    "    student_even.eval()\n",
    "    eval_loss_even = 0\n",
    "    all_predictions_even = []\n",
    "    all_labels_even = []\n",
    "\n",
    "    with torch.no_grad():\n",
    "        for batch in eval_dataloader:\n",
    "            assert \"labels\" in batch, \"Missing 'labels' in eval batch\"  # Check eval batch\n",
    "            batch = {k: v.to(device) for k, v in batch.items()}\n",
    "            outputs = student_even(input_ids=batch['input_ids'], attention_mask=batch['attention_mask'])\n",
    "            logits = outputs.logits\n",
    "            loss_cls = loss_fn(logits, batch[\"labels\"].float())\n",
    "            eval_loss_even += loss_cls.item()\n",
    "\n",
    "            predictions = (torch.sigmoid(logits) > 0.5).int()\n",
    "            all_predictions_even.append(predictions.cpu().numpy())\n",
    "            all_labels_even.append(batch[\"labels\"].cpu().numpy())\n",
    "\n",
    "    all_predictions_even = np.concatenate(all_predictions_even, axis=0)\n",
    "    all_labels_even = np.concatenate(all_labels_even, axis=0)\n",
    "\n",
    "    eval_results_even = {}\n",
    "    for metric_name, metric in metrics.items():\n",
    "        eval_results_even[metric_name] = metric.compute(predictions=all_predictions_even, references=all_labels_even, average=\"micro\")[metric_name]\n",
    "        eval_metrics_even[metric_name] += eval_results_even[metric_name]\n",
    "\n",
    "    eval_losses_even.append(eval_loss_even / len(eval_dataloader))\n",
    "    print(f\"Epoch {epoch+1} (Even) - Eval loss: {eval_losses_even[-1]:.4f}, F1: {eval_results_even['f1']:.4f}, Precision: {eval_results_even['precision']:.4f}, Recall: {eval_results_even['recall']:.4f}\")\n",
    "\n",
    "print(f\"Average Eval Metrics (Even):\")\n",
    "for metric_name in eval_metrics_even:\n",
    "    print(f\"  - {metric_name.capitalize()}: {eval_metrics_even[metric_name] / num_epochs:.4f}\")\n",
    "\n",
    "student_odd.save_pretrained(\"./student_odd_model1\")\n",
    "student_even.save_pretrained(\"./student_even_model1\")\n",
    "tokenizer.save_pretrained(\"./student_odd_model1\")\n",
    "tokenizer.save_pretrained(\"./student_even_model1\")\n",
    "print(\"Models saved: ./student_odd_model1 and ./student_even_model1\")"
   ]
  },
  {
   "cell_type": "code",
   "execution_count": 89,
   "metadata": {},
   "outputs": [
    {
     "name": "stdout",
     "output_type": "stream",
     "text": [
      "31.82956489920616\n"
     ]
    }
   ],
   "source": [
    "print(train_loss)"
   ]
  },
  {
   "cell_type": "code",
   "execution_count": 47,
   "metadata": {},
   "outputs": [
    {
     "name": "stdout",
     "output_type": "stream",
     "text": [
      "Models and tokenizer saved as .pkl files: student_odd_model.pkl, student_even_model.pkl, tokenizer.pkl\n"
     ]
    }
   ],
   "source": [
    "import pickle\n",
    "\n",
    "# Save the full models and tokenizer as .pkl files\n",
    "with open(\"./student_odd_model.pkl\", \"wb\") as f:\n",
    "    pickle.dump(student_odd, f)\n",
    "with open(\"./student_even_model.pkl\", \"wb\") as f:\n",
    "    pickle.dump(student_even, f)\n",
    "with open(\"./tokenizer.pkl\", \"wb\") as f:\n",
    "    pickle.dump(tokenizer, f)\n",
    "print(\"Models and tokenizer saved as .pkl files: student_odd_model.pkl, student_even_model.pkl, tokenizer.pkl\")"
   ]
  },
  {
   "cell_type": "code",
   "execution_count": 94,
   "metadata": {},
   "outputs": [
    {
     "data": {
      "image/png": "[encoded data removed]",
      "text/plain": [
       "<Figure size 1200x600 with 2 Axes>"
      ]
     },
     "metadata": {},
     "output_type": "display_data"
    }
   ],
   "source": [
    "import matplotlib.pyplot as plt\n",
    "\n",
    "# Plotting the losses for student_odd and student_even\n",
    "plt.figure(figsize=(12, 6))\n",
    "\n",
    "# Training Losses\n",
    "plt.subplot(1, 2, 1)\n",
    "plt.plot(train_losses_odd, label='Train Loss (Odd)', color='blue')\n",
    "plt.plot(train_losses_even, label='Train Loss (Even)', color='green')\n",
    "plt.xlabel('Epochs')\n",
    "plt.ylabel('Loss')\n",
    "plt.title('Training Loss')\n",
    "plt.legend()\n",
    "\n",
    "# Evaluation Losses\n",
    "plt.subplot(1, 2, 2)\n",
    "plt.plot(eval_losses_odd, label='Eval Loss (Odd)', color='blue')\n",
    "plt.plot(eval_losses_even, label='Eval Loss (Even)', color='green')\n",
    "plt.xlabel('Epochs')\n",
    "plt.ylabel('Loss')\n",
    "plt.title('Evaluation Loss')\n",
    "plt.legend()\n",
    "\n",
    "plt.tight_layout()\n",
    "plt.show()\n"
   ]
  },
  {
   "cell_type": "code",
   "execution_count": 92,
   "metadata": {},
   "outputs": [
    {
     "name": "stdout",
     "output_type": "stream",
     "text": [
      "Models and tokenizers saved.\n"
     ]
    }
   ],
   "source": [
    "import pickle\n",
    "from transformers import AutoTokenizer\n",
    "\n",
    "# Save the model with pickle\n",
    "with open('./student_odd_model_updated.pkl', 'wb') as f:\n",
    "    pickle.dump(student_odd, f)\n",
    "\n",
    "with open('./student_even_model_updated.pkl', 'wb') as f:\n",
    "    pickle.dump(student_even, f)\n",
    "\n",
    "# Save the tokenizers\n",
    "tokenizer.save_pretrained('./student_odd_model2')  # Save the tokenizer for student_odd\n",
    "tokenizer.save_pretrained('./student_even_model2')  # Save the tokenizer for student_even\n",
    "\n",
    "# Save the configuration of the models\n",
    "student_odd.config.save_pretrained('./student_odd_model2')  # Save the config of student_odd\n",
    "student_even.config.save_pretrained('./student_even_model2')  # Save the config of student_even\n",
    "\n",
    "print(\"Models and tokenizers saved.\")\n"
   ]
  },
  {
   "attachments": {},
   "cell_type": "markdown",
   "metadata": {},
   "source": [
    "### Appendix (Teacher Model)"
   ]
  },
  {
   "cell_type": "code",
   "execution_count": 97,
   "metadata": {},
   "outputs": [
    {
     "data": {
      "application/vnd.jupyter.widget-view+json": {
       "model_id": "df1f40c9fdea44a4aa35dc557f3bba62",
       "version_major": 2,
       "version_minor": 0
      },
      "text/plain": [
       "  0%|          | 0/15000 [00:00<?, ?it/s]"
      ]
     },
     "metadata": {},
     "output_type": "display_data"
    },
    {
     "name": "stdout",
     "output_type": "stream",
     "text": [
      "Epoch 1: Train loss 0.1070\n",
      "Epoch 1: Eval loss 0.0880, Eval Acc 0.4000\n",
      "Epoch 2: Train loss 0.0825\n",
      "Epoch 2: Eval loss 0.0848, Eval Acc 0.4480\n",
      "Epoch 3: Train loss 0.0690\n",
      "Epoch 3: Eval loss 0.0893, Eval Acc 0.4460\n",
      "Avg Eval Accuracy: 0.4313\n"
     ]
    }
   ],
   "source": [
    "import torch\n",
    "from tqdm.auto import tqdm\n",
    "import torch.optim as optim\n",
    "import torch.nn as nn\n",
    "from sklearn.metrics import accuracy_score\n",
    "import numpy as np\n",
    "\n",
    "# Ensure teacher_model is moved to the correct device\n",
    "teacher_model.to(device)\n",
    "\n",
    "# Hyperparameters\n",
    "lr = 5e-5\n",
    "num_epochs = 3\n",
    "num_training_steps = num_epochs * len(train_dataloader)\n",
    "\n",
    "# Optimizer (no scheduler in your original code; I removed lr_scheduler)\n",
    "optimizer = optim.Adam(params=teacher_model.parameters(), lr=lr)\n",
    "\n",
    "# Loss function for multi-label classification\n",
    "loss_fn = nn.BCEWithLogitsLoss()\n",
    "\n",
    "# To track training and evaluation metrics\n",
    "train_losses = []\n",
    "eval_losses = []\n",
    "eval_metrics = {\"accuracy\": 0}\n",
    "\n",
    "# Initialize the progress bar\n",
    "progress_bar = tqdm(range(num_training_steps))\n",
    "\n",
    "for epoch in range(num_epochs):\n",
    "    teacher_model.train()\n",
    "    train_loss = 0\n",
    "    for step, batch in enumerate(train_dataloader):\n",
    "        batch = {k: v.to(device) for k, v in batch.items()}\n",
    "        \n",
    "        # Forward pass (do not pass labels to compute internal loss)\n",
    "        output_teacher = teacher_model(\n",
    "            input_ids=batch[\"input_ids\"],\n",
    "            attention_mask=batch[\"attention_mask\"],\n",
    "            token_type_ids=batch[\"token_type_ids\"],\n",
    "            labels=None  # Set to None to get logits only\n",
    "        )\n",
    "        \n",
    "        # Compute multi-label loss\n",
    "        logits = output_teacher.logits  # Shape: [batch_size, num_labels]\n",
    "        labels = batch[\"labels\"].float()  # Convert to float for BCEWithLogitsLoss\n",
    "        loss = loss_fn(logits, labels)\n",
    "        train_loss += loss.item()\n",
    "\n",
    "        # Backpropagation\n",
    "        loss.backward()\n",
    "        optimizer.step()\n",
    "        optimizer.zero_grad()\n",
    "        \n",
    "        progress_bar.update(1)\n",
    "\n",
    "    avg_train_loss = train_loss / len(train_dataloader)\n",
    "    train_losses.append(avg_train_loss)\n",
    "    print(f'Epoch {epoch+1}: Train loss {avg_train_loss:.4f}')\n",
    "\n",
    "    # Evaluation\n",
    "    teacher_model.eval()\n",
    "    eval_loss = 0\n",
    "    all_predictions = []\n",
    "    all_labels = []\n",
    "\n",
    "    for step, batch in enumerate(eval_dataloader):\n",
    "        batch = {k: v.to(device) for k, v in batch.items()}\n",
    "        \n",
    "        with torch.no_grad():\n",
    "            outputs = teacher_model(\n",
    "                input_ids=batch[\"input_ids\"],\n",
    "                attention_mask=batch[\"attention_mask\"],\n",
    "                token_type_ids=batch[\"token_type_ids\"],\n",
    "                labels=None\n",
    "            )\n",
    "        \n",
    "        # Compute evaluation loss\n",
    "        logits = outputs.logits\n",
    "        labels = batch[\"labels\"].float()\n",
    "        eval_loss += loss_fn(logits, labels).item()\n",
    "\n",
    "        # Get predictions (apply sigmoid and threshold at 0.5)\n",
    "        predictions = (torch.sigmoid(logits) > 0.5).int()  # Shape: [batch_size, num_labels]\n",
    "        all_predictions.append(predictions.cpu().numpy())\n",
    "        all_labels.append(labels.cpu().numpy())\n",
    "\n",
    "    avg_eval_loss = eval_loss / len(eval_dataloader)\n",
    "    eval_losses.append(avg_eval_loss)\n",
    "\n",
    "    # Flatten lists for accuracy computation\n",
    "    all_predictions = np.concatenate(all_predictions, axis=0)  # Shape: [total_samples, num_labels]\n",
    "    all_labels = np.concatenate(all_labels, axis=0)  # Shape: [total_samples, num_labels]\n",
    "\n",
    "    # Compute evaluation accuracy (exact match ratio for multi-label)\n",
    "    eval_accuracy = accuracy_score(all_labels, all_predictions)\n",
    "    eval_metrics[\"accuracy\"] += eval_accuracy\n",
    "\n",
    "    print(f\"Epoch {epoch+1}: Eval loss {avg_eval_loss:.4f}, Eval Acc {eval_accuracy:.4f}\")\n",
    "\n",
    "# Average metrics over all epochs\n",
    "avg_eval_accuracy = eval_metrics[\"accuracy\"] / num_epochs\n",
    "print(f'Avg Eval Accuracy: {avg_eval_accuracy:.4f}')\n",
    "\n",
    "# Optionally save the model after training\n",
    "# teacher_model.save_pretrained('./teacher_model')\n",
    "# tokenizer.save_pretrained('./teacher_model')"
   ]
  },
  {
   "cell_type": "code",
   "execution_count": 43,
   "metadata": {},
   "outputs": [],
   "source": [
    "torch.cuda.empty_cache()"
   ]
  },
  {
   "cell_type": "code",
   "execution_count": 98,
   "metadata": {},
   "outputs": [
    {
     "name": "stdout",
     "output_type": "stream",
     "text": [
      "Computing test loss for student_odd...\n"
     ]
    },
    {
     "data": {
      "application/vnd.jupyter.widget-view+json": {
       "model_id": "b37d92dca3dc4485b640c59c524788d5",
       "version_major": 2,
       "version_minor": 0
      },
      "text/plain": [
       "Evaluating Test Set:   0%|          | 0/32 [00:00<?, ?it/s]"
      ]
     },
     "metadata": {},
     "output_type": "display_data"
    },
    {
     "name": "stdout",
     "output_type": "stream",
     "text": [
      "Student Odd Test Loss: 0.7386\n",
      "Computing test loss for student_even...\n"
     ]
    },
    {
     "data": {
      "application/vnd.jupyter.widget-view+json": {
       "model_id": "cd7347e0fe2a449e95c636ff20ac0db2",
       "version_major": 2,
       "version_minor": 0
      },
      "text/plain": [
       "Evaluating Test Set:   0%|          | 0/32 [00:00<?, ?it/s]"
      ]
     },
     "metadata": {},
     "output_type": "display_data"
    },
    {
     "name": "stdout",
     "output_type": "stream",
     "text": [
      "Student Even Test Loss: 0.7096\n",
      "Computing test loss for teacher_model...\n"
     ]
    },
    {
     "data": {
      "application/vnd.jupyter.widget-view+json": {
       "model_id": "dd5469a946a3467a9751785645c98544",
       "version_major": 2,
       "version_minor": 0
      },
      "text/plain": [
       "Evaluating Test Set:   0%|          | 0/32 [00:00<?, ?it/s]"
      ]
     },
     "metadata": {},
     "output_type": "display_data"
    },
    {
     "name": "stdout",
     "output_type": "stream",
     "text": [
      "Teacher Model Test Loss: 0.0884\n"
     ]
    }
   ],
   "source": [
    "import torch\n",
    "import torch.nn as nn\n",
    "from tqdm.auto import tqdm\n",
    "import numpy as np\n",
    "\n",
    "# Ensure models are on the correct device\n",
    "student_odd.to(device)\n",
    "student_even.to(device)\n",
    "teacher_model.to(device)  # Optional, for comparison\n",
    "\n",
    "# Loss function for multi-label classification\n",
    "loss_fn = nn.BCEWithLogitsLoss()\n",
    "\n",
    "# Use the existing test_dataloader from your notebook (cell 19)\n",
    "# test_dataloader = DataLoader(small_test_dataset, batch_size=32, collate_fn=data_collator)\n",
    "# Already defined, so no need to redefine unless you want to change batch_size\n",
    "\n",
    "# Function to compute test loss for a given model\n",
    "def compute_test_loss(model, dataloader, loss_fn, device):\n",
    "    model.eval()\n",
    "    total_test_loss = 0\n",
    "    num_batches = 0\n",
    "    \n",
    "    with torch.no_grad():\n",
    "        for batch in tqdm(dataloader, desc=\"Evaluating Test Set\"):\n",
    "            batch = {k: v.to(device) for k, v in batch.items()}\n",
    "            outputs = model(\n",
    "                input_ids=batch[\"input_ids\"],\n",
    "                attention_mask=batch[\"attention_mask\"],\n",
    "                token_type_ids=batch[\"token_type_ids\"],\n",
    "                labels=None  # Get logits only\n",
    "            )\n",
    "            logits = outputs.logits  # Shape: [batch_size, num_labels]\n",
    "            labels = batch[\"labels\"].float()  # Convert to float for BCEWithLogitsLoss\n",
    "            loss = loss_fn(logits, labels)\n",
    "            total_test_loss += loss.item()\n",
    "            num_batches += 1\n",
    "    \n",
    "    avg_test_loss = total_test_loss / num_batches\n",
    "    return avg_test_loss\n",
    "\n",
    "# Compute test loss for both student models\n",
    "print(\"Computing test loss for student_odd...\")\n",
    "test_loss_odd = compute_test_loss(student_odd, test_dataloader, loss_fn, device)\n",
    "print(f\"Student Odd Test Loss: {test_loss_odd:.4f}\")\n",
    "\n",
    "print(\"Computing test loss for student_even...\")\n",
    "test_loss_even = compute_test_loss(student_even, test_dataloader, loss_fn, device)\n",
    "print(f\"Student Even Test Loss: {test_loss_even:.4f}\")\n",
    "\n",
    "# Optionally compute test loss for teacher model for comparison\n",
    "print(\"Computing test loss for teacher_model...\")\n",
    "test_loss_teacher = compute_test_loss(teacher_model, test_dataloader, loss_fn, device)\n",
    "print(f\"Teacher Model Test Loss: {test_loss_teacher:.4f}\")"
   ]
  },
  {
   "cell_type": "code",
   "execution_count": null,
   "metadata": {},
   "outputs": [
    {
     "name": "stdout",
     "output_type": "stream",
     "text": [
      "\n",
      "Input Text: 'I’m so happy to see you all again!'\n",
      "Teacher Model:\n",
      "  Predicted Emotions: ['joy']\n",
      "  Probabilities: ['joy: 0.884']\n",
      "Student Odd:\n",
      "  Predicted Emotions: ['amusement', 'confusion', 'curiosity', 'desire', 'disapproval', 'embarrassment', 'excitement', 'fear', 'gratitude', 'grief', 'joy', 'love', 'nervousness', 'pride', 'realization', 'relief', 'remorse', 'surprise', 'neutral']\n",
      "  Probabilities: ['admiration: 0.303', 'amusement: 0.601', 'anger: 0.469', 'annoyance: 0.480', 'approval: 0.378', 'caring: 0.414', 'confusion: 0.502', 'curiosity: 0.590', 'desire: 0.614', 'disappointment: 0.411', 'disapproval: 0.546', 'disgust: 0.298', 'embarrassment: 0.528', 'excitement: 0.549', 'fear: 0.541', 'gratitude: 0.605', 'grief: 0.567', 'joy: 0.633', 'love: 0.635', 'nervousness: 0.535', 'optimism: 0.427', 'pride: 0.582', 'realization: 0.614', 'relief: 0.566', 'remorse: 0.552', 'sadness: 0.424', 'surprise: 0.500', 'neutral: 0.614']\n",
      "Student Even:\n",
      "  Predicted Emotions: ['amusement', 'curiosity', 'desire', 'disapproval', 'embarrassment', 'gratitude', 'grief', 'joy', 'love', 'nervousness', 'pride', 'realization', 'relief', 'remorse', 'surprise', 'neutral']\n",
      "  Probabilities: ['admiration: 0.368', 'amusement: 0.549', 'anger: 0.496', 'annoyance: 0.444', 'approval: 0.397', 'caring: 0.461', 'confusion: 0.425', 'curiosity: 0.578', 'desire: 0.569', 'disappointment: 0.441', 'disapproval: 0.523', 'disgust: 0.357', 'embarrassment: 0.546', 'excitement: 0.493', 'fear: 0.483', 'gratitude: 0.560', 'grief: 0.540', 'joy: 0.535', 'love: 0.604', 'nervousness: 0.551', 'optimism: 0.442', 'pride: 0.570', 'realization: 0.602', 'relief: 0.556', 'remorse: 0.551', 'sadness: 0.468', 'surprise: 0.503', 'neutral: 0.562']\n",
      "\n",
      "Input Text: 'This is absolutely disgusting and frustrating.'\n",
      "Teacher Model:\n",
      "  Predicted Emotions: ['disgust']\n",
      "  Probabilities: ['annoyance: 0.159', 'disgust: 0.875']\n",
      "Student Odd:\n",
      "  Predicted Emotions: ['amusement', 'anger', 'annoyance', 'confusion', 'curiosity', 'desire', 'embarrassment', 'fear', 'gratitude', 'grief', 'joy', 'love', 'nervousness', 'pride', 'realization', 'relief', 'remorse', 'neutral']\n",
      "  Probabilities: ['admiration: 0.330', 'amusement: 0.634', 'anger: 0.562', 'annoyance: 0.503', 'approval: 0.484', 'caring: 0.475', 'confusion: 0.548', 'curiosity: 0.573', 'desire: 0.567', 'disappointment: 0.433', 'disapproval: 0.467', 'disgust: 0.358', 'embarrassment: 0.503', 'excitement: 0.499', 'fear: 0.524', 'gratitude: 0.596', 'grief: 0.599', 'joy: 0.639', 'love: 0.637', 'nervousness: 0.604', 'optimism: 0.463', 'pride: 0.501', 'realization: 0.537', 'relief: 0.570', 'remorse: 0.600', 'sadness: 0.349', 'surprise: 0.461', 'neutral: 0.611']\n",
      "Student Even:\n",
      "  Predicted Emotions: ['amusement', 'curiosity', 'desire', 'disapproval', 'embarrassment', 'excitement', 'gratitude', 'grief', 'love', 'nervousness', 'pride', 'realization', 'relief', 'remorse', 'neutral']\n",
      "  Probabilities: ['admiration: 0.387', 'amusement: 0.536', 'anger: 0.495', 'annoyance: 0.450', 'approval: 0.413', 'caring: 0.465', 'confusion: 0.457', 'curiosity: 0.562', 'desire: 0.556', 'disappointment: 0.447', 'disapproval: 0.524', 'disgust: 0.340', 'embarrassment: 0.526', 'excitement: 0.517', 'fear: 0.488', 'gratitude: 0.542', 'grief: 0.515', 'joy: 0.488', 'love: 0.608', 'nervousness: 0.535', 'optimism: 0.425', 'pride: 0.569', 'realization: 0.576', 'relief: 0.573', 'remorse: 0.595', 'sadness: 0.475', 'surprise: 0.497', 'neutral: 0.555']\n",
      "\n",
      "Input Text: 'Wow, I didn’t expect that at all!'\n",
      "Teacher Model:\n",
      "  Predicted Emotions: ['surprise']\n",
      "  Probabilities: ['excitement: 0.133', 'surprise: 0.834']\n",
      "Student Odd:\n",
      "  Predicted Emotions: ['amusement', 'anger', 'confusion', 'curiosity', 'desire', 'disapproval', 'excitement', 'fear', 'gratitude', 'grief', 'joy', 'love', 'nervousness', 'pride', 'realization', 'relief', 'remorse', 'neutral']\n",
      "  Probabilities: ['admiration: 0.317', 'amusement: 0.654', 'anger: 0.501', 'annoyance: 0.455', 'approval: 0.434', 'caring: 0.461', 'confusion: 0.525', 'curiosity: 0.574', 'desire: 0.575', 'disappointment: 0.438', 'disapproval: 0.509', 'disgust: 0.374', 'embarrassment: 0.495', 'excitement: 0.524', 'fear: 0.518', 'gratitude: 0.600', 'grief: 0.615', 'joy: 0.611', 'love: 0.601', 'nervousness: 0.581', 'optimism: 0.475', 'pride: 0.529', 'realization: 0.556', 'relief: 0.547', 'remorse: 0.533', 'sadness: 0.366', 'surprise: 0.478', 'neutral: 0.587']\n",
      "Student Even:\n",
      "  Predicted Emotions: ['amusement', 'curiosity', 'desire', 'disapproval', 'embarrassment', 'gratitude', 'grief', 'joy', 'love', 'nervousness', 'pride', 'realization', 'relief', 'remorse', 'surprise', 'neutral']\n",
      "  Probabilities: ['admiration: 0.377', 'amusement: 0.541', 'anger: 0.496', 'annoyance: 0.440', 'approval: 0.398', 'caring: 0.465', 'confusion: 0.422', 'curiosity: 0.567', 'desire: 0.570', 'disappointment: 0.437', 'disapproval: 0.524', 'disgust: 0.360', 'embarrassment: 0.544', 'excitement: 0.490', 'fear: 0.482', 'gratitude: 0.561', 'grief: 0.532', 'joy: 0.531', 'love: 0.597', 'nervousness: 0.551', 'optimism: 0.446', 'pride: 0.566', 'realization: 0.598', 'relief: 0.559', 'remorse: 0.541', 'sadness: 0.470', 'surprise: 0.508', 'neutral: 0.558']\n"
     ]
    }
   ],
   "source": [
    "import torch\n",
    "from transformers import AutoTokenizer\n",
    "\n",
    "# Ensure models are on the correct device\n",
    "teacher_model.to(device)\n",
    "student_odd.to(device)\n",
    "student_even.to(device)\n",
    "\n",
    "\n",
    "# Function for inference\n",
    "def predict_emotions(text, model, tokenizer, id2label, device, threshold=0.5):\n",
    "    model.eval()\n",
    "    \n",
    "    # Tokenize the input text\n",
    "    inputs = tokenizer(\n",
    "        text,\n",
    "        max_length=128,\n",
    "        truncation=True,\n",
    "        padding=True,\n",
    "        return_tensors=\"pt\"  # Return PyTorch tensors\n",
    "    )\n",
    "    \n",
    "    # Move inputs to the correct device\n",
    "    inputs = {k: v.to(device) for k, v in inputs.items()}\n",
    "    \n",
    "    # Perform inference\n",
    "    with torch.no_grad():\n",
    "        outputs = model(**inputs)\n",
    "        logits = outputs.logits  # Shape: [1, num_labels]\n",
    "    \n",
    "    # Convert logits to probabilities\n",
    "    probs = torch.sigmoid(logits).squeeze(0)  # Shape: [num_labels]\n",
    "    \n",
    "    # Apply threshold to get predicted labels\n",
    "    predicted_labels = (probs > threshold).int()\n",
    "    \n",
    "    # Get the emotion names\n",
    "    emotions = [id2label[i] for i, val in enumerate(predicted_labels) if val == 1]\n",
    "    \n",
    "    # Return probabilities and emotions\n",
    "    return probs.cpu().numpy(), emotions\n",
    "\n",
    "# Example text for inference\n",
    "example_texts = [\n",
    "    \"I’m so happy to see you all again!\",\n",
    "    \"This is absolutely disgusting and frustrating.\",\n",
    "    \"Wow, I didn’t expect that at all!\"\n",
    "]\n",
    "\n",
    "# Perform inference with all models\n",
    "models = {\n",
    "    \"Teacher Model\": teacher_model,\n",
    "    \"Student Odd\": student_odd,\n",
    "    \"Student Even\": student_even\n",
    "}\n",
    "\n",
    "for text in example_texts:\n",
    "    print(f\"\\nInput Text: '{text}'\")\n",
    "    for model_name, model in models.items():\n",
    "        probs, emotions = predict_emotions(text, model, tokenizer, id2label, device)\n",
    "        print(f\"{model_name}:\")\n",
    "        print(f\"  Predicted Emotions: {emotions if emotions else 'None'}\")\n",
    "        print(f\"  Probabilities: {[f'{id2label[i]}: {prob:.3f}' for i, prob in enumerate(probs) if prob > 0.1]}\")"
   ]
  },
  {
   "cell_type": "code",
   "execution_count": null,
   "metadata": {},
   "outputs": [],
   "source": []
  }
 ],
 "metadata": {
  "kernelspec": {
   "display_name": "Python 3 (ipykernel)",
   "language": "python",
   "name": "python3"
  },
  "language_info": {
   "codemirror_mode": {
    "name": "ipython",
    "version": 3
   },
   "file_extension": ".py",
   "mimetype": "text/x-python",
   "name": "python",
   "nbconvert_exporter": "python",
   "pygments_lexer": "ipython3",
   "version": "3.12.6"
  }
 },
 "nbformat": 4,
 "nbformat_minor": 4
}
